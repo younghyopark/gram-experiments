{
 "cells": [
  {
   "cell_type": "markdown",
   "metadata": {},
   "source": [
    "<center><h1>ResNet: Cifar10</h1></center>"
   ]
  },
  {
   "cell_type": "markdown",
   "metadata": {},
   "source": [
    "## Imports"
   ]
  },
  {
   "cell_type": "code",
   "execution_count": 1,
   "metadata": {
    "tags": []
   },
   "outputs": [],
   "source": [
    "from __future__ import division,print_function\n",
    "\n",
    "%matplotlib inline\n",
    "%load_ext autoreload\n",
    "%autoreload 2\n",
    "\n",
    "import sys\n",
    "from tqdm import tqdm_notebook as tqdm\n",
    "\n",
    "import random\n",
    "import matplotlib.pyplot as plt\n",
    "import math\n",
    "\n",
    "import numpy as np\n",
    "\n",
    "import torch\n",
    "import torch.nn as nn\n",
    "import torch.nn.functional as F\n",
    "import torch.optim as optim\n",
    "import torch.nn.init as init\n",
    "from torch.autograd import Variable, grad\n",
    "from torchvision import datasets, transforms\n",
    "from torch.nn.parameter import Parameter\n",
    "\n",
    "import calculate_log as callog\n",
    "\n",
    "import warnings\n",
    "warnings.filterwarnings('ignore')"
   ]
  },
  {
   "cell_type": "code",
   "execution_count": 2,
   "metadata": {},
   "outputs": [],
   "source": [
    "torch.cuda.set_device(1) #Select the GPU"
   ]
  },
  {
   "cell_type": "markdown",
   "metadata": {},
   "source": [
    "## Model definition"
   ]
  },
  {
   "cell_type": "code",
   "execution_count": 3,
   "metadata": {
    "tags": []
   },
   "outputs": [],
   "source": [
    "def conv3x3(in_planes, out_planes, stride=1):\n",
    "    return nn.Conv2d(in_planes, out_planes, kernel_size=3, stride=stride, padding=1, bias=False)\n",
    "\n",
    "class BasicBlock(nn.Module):\n",
    "    expansion = 1\n",
    "\n",
    "    def __init__(self, in_planes, planes, stride=1):\n",
    "        super(BasicBlock, self).__init__()\n",
    "        self.conv1 = conv3x3(in_planes, planes, stride)\n",
    "        self.bn1 = nn.BatchNorm2d(planes)\n",
    "        self.conv2 = conv3x3(planes, planes)\n",
    "        self.bn2 = nn.BatchNorm2d(planes)\n",
    "\n",
    "        self.shortcut = nn.Sequential()\n",
    "        if stride != 1 or in_planes != self.expansion*planes:\n",
    "            self.shortcut = nn.Sequential(\n",
    "                nn.Conv2d(in_planes, self.expansion*planes, kernel_size=1, stride=stride, bias=False),\n",
    "                nn.BatchNorm2d(self.expansion*planes)\n",
    "            )\n",
    "    \n",
    "    def forward(self, x):\n",
    "        t = self.conv1(x)\n",
    "        out = F.relu(self.bn1(t))\n",
    "        torch_model.record(t)\n",
    "        torch_model.record(out)\n",
    "        t = self.conv2(out)\n",
    "        out = self.bn2(self.conv2(out))\n",
    "        torch_model.record(t)\n",
    "        torch_model.record(out)\n",
    "        t = self.shortcut(x)\n",
    "        out += t\n",
    "        torch_model.record(t)\n",
    "        out = F.relu(out)\n",
    "        torch_model.record(out)\n",
    "        \n",
    "        return out\n",
    "\n",
    "class ResNet(nn.Module):\n",
    "    def __init__(self, block, num_blocks, num_classes=10):\n",
    "        super(ResNet, self).__init__()\n",
    "        self.in_planes = 64\n",
    "\n",
    "        self.conv1 = conv3x3(3,64)\n",
    "        self.bn1 = nn.BatchNorm2d(64)\n",
    "        self.layer1 = self._make_layer(block, 64, num_blocks[0], stride=1)\n",
    "        self.layer2 = self._make_layer(block, 128, num_blocks[1], stride=2)\n",
    "        self.layer3 = self._make_layer(block, 256, num_blocks[2], stride=2)\n",
    "        self.layer4 = self._make_layer(block, 512, num_blocks[3], stride=2)\n",
    "        self.linear = nn.Linear(512*block.expansion, num_classes)\n",
    "        \n",
    "        self.collecting = False\n",
    "    \n",
    "    def _make_layer(self, block, planes, num_blocks, stride):\n",
    "        strides = [stride] + [1]*(num_blocks-1)\n",
    "        layers = []\n",
    "        for stride in strides:\n",
    "            layers.append(block(self.in_planes, planes, stride))\n",
    "            self.in_planes = planes * block.expansion\n",
    "        return nn.Sequential(*layers)\n",
    "    \n",
    "    def forward(self, x):\n",
    "        out = F.relu(self.bn1(self.conv1(x)))\n",
    "        out = self.layer1(out)\n",
    "        out = self.layer2(out)\n",
    "        out = self.layer3(out)\n",
    "        out = self.layer4(out)\n",
    "        out = F.avg_pool2d(out, 4)\n",
    "        out = out.view(out.size(0), -1)\n",
    "        y = self.linear(out)\n",
    "        return y\n",
    "    \n",
    "    def record(self, t):\n",
    "        if self.collecting:\n",
    "            self.gram_feats.append(t)\n",
    "    \n",
    "    def gram_feature_list(self,x):\n",
    "        self.collecting = True\n",
    "        self.gram_feats = []\n",
    "        self.forward(x)\n",
    "        self.collecting = False\n",
    "        temp = self.gram_feats\n",
    "        self.gram_feats = []\n",
    "        return temp\n",
    "    \n",
    "    def load(self, path=\"resnet_cifar10.pth\"):\n",
    "        tm = torch.load(path,map_location=\"cpu\")        \n",
    "        self.load_state_dict(tm)\n",
    "    \n",
    "    def get_min_max(self, data, power):\n",
    "        mins = []\n",
    "        maxs = []\n",
    "        \n",
    "        for i in range(0,len(data),128):\n",
    "            batch = data[i:i+128].cuda()\n",
    "            feat_list = self.gram_feature_list(batch)\n",
    "            for L,feat_L in enumerate(feat_list):\n",
    "                if L==len(mins):\n",
    "                    mins.append([None]*len(power))\n",
    "                    maxs.append([None]*len(power))\n",
    "                \n",
    "                for p,P in enumerate(power):\n",
    "                    g_p = G_p(feat_L,P)\n",
    "                    \n",
    "                    current_min = g_p.min(dim=0,keepdim=True)[0]\n",
    "                    current_max = g_p.max(dim=0,keepdim=True)[0]\n",
    "                    \n",
    "                    if mins[L][p] is None:\n",
    "                        mins[L][p] = current_min\n",
    "                        maxs[L][p] = current_max\n",
    "                    else:\n",
    "                        mins[L][p] = torch.min(current_min,mins[L][p])\n",
    "                        maxs[L][p] = torch.max(current_max,maxs[L][p])\n",
    "        \n",
    "        return mins,maxs\n",
    "    \n",
    "    def get_deviations(self,data,power,mins,maxs):\n",
    "        deviations = []\n",
    "        \n",
    "        for i in range(0,len(data),128):            \n",
    "            batch = data[i:i+128].cuda()\n",
    "            feat_list = self.gram_feature_list(batch)\n",
    "            batch_deviations = []\n",
    "            for L,feat_L in enumerate(feat_list):\n",
    "                dev = 0\n",
    "                for p,P in enumerate(power):\n",
    "                    g_p = G_p(feat_L,P)\n",
    "                    \n",
    "                    dev +=  (F.relu(mins[L][p]-g_p)/torch.abs(mins[L][p]+10**-6)).sum(dim=1,keepdim=True)\n",
    "                    dev +=  (F.relu(g_p-maxs[L][p])/torch.abs(maxs[L][p]+10**-6)).sum(dim=1,keepdim=True)\n",
    "                batch_deviations.append(dev.cpu().detach().numpy())\n",
    "            batch_deviations = np.concatenate(batch_deviations,axis=1)\n",
    "            deviations.append(batch_deviations)\n",
    "        deviations = np.concatenate(deviations,axis=0)\n",
    "        \n",
    "        return deviations\n",
    "\n",
    "    def get_min_max_argmaxversion(self, data, power):\n",
    "            mins = []\n",
    "            maxs = []\n",
    "            max_mins = []\n",
    "            max_maxs = []\n",
    "            which_layer=1\n",
    "            batch_size=256\n",
    "            for i in range(0,len(data),batch_size):\n",
    "                batch = data[i:i+batch_size].cuda()\n",
    "                feat_list = self.gram_feature_list(batch)\n",
    "                for L1,feat_L in enumerate(feat_list):\n",
    "                    if L1%which_layer==0:\n",
    "                        L=L1//which_layer\n",
    "                        if L==len(mins):\n",
    "                            mins.append([None]*len(power))\n",
    "                            maxs.append([None]*len(power))\n",
    "                            max_mins.append([None]*len(power))\n",
    "                            max_maxs.append([None]*len(power))\n",
    "\n",
    "                        for p,P in enumerate(power):\n",
    "                            g_p = G_p_argmax(feat_L,P)\n",
    "\n",
    "                            current_min = g_p[1].min(dim=0,keepdim=True)[0]\n",
    "                            current_max = g_p[1].max(dim=0,keepdim=True)[0]\n",
    "                            current_maxmin = g_p[0].min(dim=0,keepdim=True)[0]\n",
    "                            current_maxmax = g_p[0].max(dim=0,keepdim=True)[0]\n",
    "\n",
    "                            if mins[L][p] is None:\n",
    "                                mins[L][p] = current_min\n",
    "                                maxs[L][p] = current_max\n",
    "                                max_mins[L][p] = current_min\n",
    "                                max_maxs[L][p] = current_max\n",
    "                            else:\n",
    "                                mins[L][p] = torch.min(current_min,mins[L][p])\n",
    "                                maxs[L][p] = torch.max(current_max,maxs[L][p])\n",
    "                                max_mins[L][p] = torch.min(current_maxmin,max_mins[L][p])\n",
    "                                max_maxs[L][p] = torch.max(current_maxmax,max_maxs[L][p])\n",
    "            \n",
    "            return mins,maxs,max_mins,max_maxs\n",
    "\n",
    "    def get_deviations_argmaxversion(self,data,power,mins,maxs):\n",
    "        deviations = []\n",
    "        which_layer=1\n",
    "        batch_size=256\n",
    "        for i in range(0,len(data),batch_size):            \n",
    "            batch = data[i:i+batch_size].cuda()\n",
    "            feat_list = self.gram_feature_list(batch)\n",
    "            batch_deviations = []\n",
    "            for L1,feat_L in enumerate(feat_list):\n",
    "                if L1%which_layer==0:\n",
    "                    L=L1//which_layer\n",
    "                    dev = 0\n",
    "                    for p,P in enumerate(power):\n",
    "                        g_p = G_p_argmax(feat_L,P)[1]\n",
    "\n",
    "                        dev +=  (F.relu(mins[L][p]-g_p)/torch.abs(mins[L][p]+10**-6)).sum(dim=1,keepdim=True)\n",
    "                        dev +=  (F.relu(g_p-maxs[L][p])/torch.abs(maxs[L][p]+10**-6)).sum(dim=1,keepdim=True)\n",
    "                    batch_deviations.append(dev.cpu().detach().numpy())\n",
    "            batch_deviations = np.concatenate(batch_deviations,axis=1)\n",
    "            deviations.append(batch_deviations)\n",
    "        deviations = np.concatenate(deviations,axis=0)\n",
    "\n",
    "        return deviations\n",
    "\n",
    "    def get_deviations_maxversion(self,data,power,mins,maxs):\n",
    "        deviations = []\n",
    "        which_layer=1\n",
    "        batch_size=256\n",
    "        for i in range(0,len(data),batch_size):            \n",
    "            batch = data[i:i+batch_size].cuda()\n",
    "            feat_list = self.gram_feature_list(batch)\n",
    "            batch_deviations = []\n",
    "            for L1,feat_L in enumerate(feat_list):\n",
    "                if L1%which_layer==0:\n",
    "                    L=L1//which_layer\n",
    "                    dev = 0\n",
    "                    for p,P in enumerate(power):\n",
    "                        g_p = G_p_argmax(feat_L,P)[0]\n",
    "\n",
    "                        dev +=  (F.relu(mins[L][p]-g_p)/torch.abs(mins[L][p]+10**-6)).sum(dim=1,keepdim=True)\n",
    "                        dev +=  (F.relu(g_p-maxs[L][p])/torch.abs(maxs[L][p]+10**-6)).sum(dim=1,keepdim=True)\n",
    "                    batch_deviations.append(dev.cpu().detach().numpy())\n",
    "            batch_deviations = np.concatenate(batch_deviations,axis=1)\n",
    "            deviations.append(batch_deviations)\n",
    "        deviations = np.concatenate(deviations,axis=0)\n",
    "        \n",
    "        return deviations    \n",
    "        \n",
    "torch_model = ResNet(BasicBlock, [3,4,6,3], num_classes=10)\n",
    "torch_model.load()\n",
    "torch_model.cuda()\n",
    "torch_model.params = list(torch_model.parameters())\n",
    "torch_model.eval()\n",
    "print(\"Done\")    "
   ]
  },
  {
   "cell_type": "markdown",
   "metadata": {},
   "source": [
    "## Datasets"
   ]
  },
  {
   "cell_type": "markdown",
   "metadata": {},
   "source": [
    "<b>In-distribution Datasets</b>"
   ]
  },
  {
   "cell_type": "code",
   "execution_count": 4,
   "metadata": {
    "tags": []
   },
   "outputs": [
    {
     "output_type": "stream",
     "name": "stdout",
     "text": [
      "Files already downloaded and verified\n"
     ]
    }
   ],
   "source": [
    "batch_size = 128\n",
    "mean = np.array([[0.4914, 0.4822, 0.4465]]).T\n",
    "\n",
    "std = np.array([[0.2023, 0.1994, 0.2010]]).T\n",
    "normalize = transforms.Normalize((0.4914, 0.4822, 0.4465), (0.2023, 0.1994, 0.2010))\n",
    "\n",
    "transform_train = transforms.Compose([\n",
    "        transforms.RandomCrop(32, padding=4),\n",
    "        transforms.RandomHorizontalFlip(),\n",
    "        transforms.ToTensor(),\n",
    "        normalize\n",
    "        \n",
    "    ])\n",
    "transform_test = transforms.Compose([\n",
    "        transforms.CenterCrop(size=(32, 32)),\n",
    "        transforms.ToTensor(),\n",
    "        normalize\n",
    "    ])\n",
    "\n",
    "train_loader = torch.utils.data.DataLoader(\n",
    "    datasets.CIFAR10('data', train=True, download=True,\n",
    "                   transform=transform_train),\n",
    "    batch_size=batch_size, shuffle=True)\n",
    "test_loader = torch.utils.data.DataLoader(\n",
    "    datasets.CIFAR10('data', train=False, transform=transform_test),\n",
    "    batch_size=batch_size)\n"
   ]
  },
  {
   "cell_type": "code",
   "execution_count": 5,
   "metadata": {
    "scrolled": true,
    "tags": []
   },
   "outputs": [
    {
     "output_type": "stream",
     "name": "stdout",
     "text": [
      "Files already downloaded and verified\n"
     ]
    }
   ],
   "source": [
    "data_train = list(torch.utils.data.DataLoader(\n",
    "        datasets.CIFAR10('data', train=True, download=True,\n",
    "                       transform=transform_test),\n",
    "        batch_size=1, shuffle=False))"
   ]
  },
  {
   "cell_type": "code",
   "execution_count": 6,
   "metadata": {
    "tags": []
   },
   "outputs": [
    {
     "output_type": "stream",
     "name": "stdout",
     "text": [
      "Files already downloaded and verified\n"
     ]
    }
   ],
   "source": [
    "data = list(torch.utils.data.DataLoader(\n",
    "    datasets.CIFAR10('data', train=False, download=True,\n",
    "                   transform=transform_test),\n",
    "    batch_size=1, shuffle=False))"
   ]
  },
  {
   "cell_type": "code",
   "execution_count": 7,
   "metadata": {
    "tags": []
   },
   "outputs": [
    {
     "output_type": "stream",
     "name": "stdout",
     "text": [
      "Accuracy:  0.9367\n"
     ]
    }
   ],
   "source": [
    "torch_model.eval()\n",
    "correct = 0\n",
    "total = 0\n",
    "for x,y in test_loader:\n",
    "    x = x.cuda()\n",
    "    y = y.numpy()\n",
    "    correct += (y==np.argmax(torch_model(x).detach().cpu().numpy(),axis=1)).sum()\n",
    "    total += y.shape[0]\n",
    "print(\"Accuracy: \",correct/total)"
   ]
  },
  {
   "cell_type": "markdown",
   "metadata": {},
   "source": [
    "<b>Out-of-distribution Datasets</b>"
   ]
  },
  {
   "cell_type": "code",
   "execution_count": 8,
   "metadata": {
    "tags": []
   },
   "outputs": [
    {
     "output_type": "stream",
     "name": "stdout",
     "text": [
      "Files already downloaded and verified\n"
     ]
    }
   ],
   "source": [
    "cifar100 = list(torch.utils.data.DataLoader(\n",
    "    datasets.CIFAR100('data', train=False, download=True,\n",
    "                   transform=transform_test),\n",
    "    batch_size=1, shuffle=True))"
   ]
  },
  {
   "cell_type": "code",
   "execution_count": 9,
   "metadata": {
    "tags": []
   },
   "outputs": [
    {
     "output_type": "stream",
     "name": "stdout",
     "text": [
      "Using downloaded and verified file: data/test_32x32.mat\n"
     ]
    }
   ],
   "source": [
    "svhn = list(torch.utils.data.DataLoader(\n",
    "    datasets.SVHN('data', split=\"test\", download=True,\n",
    "                   transform=transform_test),\n",
    "    batch_size=1, shuffle=True))"
   ]
  },
  {
   "cell_type": "code",
   "execution_count": 10,
   "metadata": {},
   "outputs": [],
   "source": [
    "isun = list(torch.utils.data.DataLoader(\n",
    "    datasets.ImageFolder(\"iSUN/\",transform=transform_test),batch_size=1,shuffle=False))"
   ]
  },
  {
   "cell_type": "code",
   "execution_count": 11,
   "metadata": {},
   "outputs": [],
   "source": [
    "lsun_c = list(torch.utils.data.DataLoader(\n",
    "    datasets.ImageFolder(\"LSUN/\",transform=transform_test),batch_size=1,shuffle=True))"
   ]
  },
  {
   "cell_type": "code",
   "execution_count": 12,
   "metadata": {},
   "outputs": [],
   "source": [
    "lsun_r = list(torch.utils.data.DataLoader(\n",
    "    datasets.ImageFolder(\"LSUN_resize/\",transform=transform_test),batch_size=1,shuffle=True))"
   ]
  },
  {
   "cell_type": "code",
   "execution_count": 13,
   "metadata": {},
   "outputs": [],
   "source": [
    "lsun_f = list(torch.utils.data.DataLoader(\n",
    "    datasets.ImageFolder(\"LSUN_FIX/\",transform=transform_test),batch_size=1,shuffle=True))"
   ]
  },
  {
   "cell_type": "code",
   "execution_count": 14,
   "metadata": {},
   "outputs": [],
   "source": [
    "tinyimagenet_c = list(torch.utils.data.DataLoader(\n",
    "    datasets.ImageFolder(\"Imagenet/\",transform=transform_test),batch_size=1,shuffle=True))"
   ]
  },
  {
   "cell_type": "code",
   "execution_count": 16,
   "metadata": {},
   "outputs": [],
   "source": [
    "tinyimagenet_r = list(torch.utils.data.DataLoader(\n",
    "    datasets.ImageFolder(\"Imagenet_resize/\",transform=transform_test),batch_size=1,shuffle=True))"
   ]
  },
  {
   "cell_type": "code",
   "execution_count": 17,
   "metadata": {},
   "outputs": [],
   "source": [
    "tinyimagenet_f = list(torch.utils.data.DataLoader(\n",
    "    datasets.ImageFolder(\"Imagenet_FIX/\",transform=transform_test),batch_size=1,shuffle=True))"
   ]
  },
  {
   "cell_type": "markdown",
   "metadata": {},
   "source": [
    "## Code for Detecting OODs"
   ]
  },
  {
   "cell_type": "markdown",
   "metadata": {},
   "source": [
    "<b> Extract predictions for train and test data </b>"
   ]
  },
  {
   "cell_type": "code",
   "execution_count": 18,
   "metadata": {
    "tags": []
   },
   "outputs": [
    {
     "output_type": "stream",
     "name": "stdout",
     "text": [
      "Done\n",
      "Done\n"
     ]
    }
   ],
   "source": [
    "train_preds = []\n",
    "train_confs = []\n",
    "train_logits = []\n",
    "for idx in range(0,len(data_train),128):\n",
    "    batch = torch.squeeze(torch.stack([x[0] for x in data_train[idx:idx+128]]),dim=1).cuda()\n",
    "    \n",
    "    logits = torch_model(batch)\n",
    "    confs = F.softmax(logits,dim=1).cpu().detach().numpy()\n",
    "    preds = np.argmax(confs,axis=1)\n",
    "    logits = (logits.cpu().detach().numpy())\n",
    "\n",
    "    train_confs.extend(np.max(confs,axis=1))    \n",
    "    train_preds.extend(preds)\n",
    "    train_logits.extend(logits)\n",
    "print(\"Done\")\n",
    "\n",
    "test_preds = []\n",
    "test_confs = []\n",
    "test_logits = []\n",
    "\n",
    "for idx in range(0,len(data),128):\n",
    "    batch = torch.squeeze(torch.stack([x[0] for x in data[idx:idx+128]]),dim=1).cuda()\n",
    "    \n",
    "    logits = torch_model(batch)\n",
    "    confs = F.softmax(logits,dim=1).cpu().detach().numpy()\n",
    "    preds = np.argmax(confs,axis=1)\n",
    "    logits = (logits.cpu().detach().numpy())\n",
    "\n",
    "    test_confs.extend(np.max(confs,axis=1))    \n",
    "    test_preds.extend(preds)\n",
    "    test_logits.extend(logits)\n",
    "print(\"Done\")"
   ]
  },
  {
   "cell_type": "markdown",
   "metadata": {},
   "source": [
    "<b> Code for detecting OODs by identifying anomalies in correlations </b>"
   ]
  },
  {
   "cell_type": "code",
   "execution_count": 19,
   "metadata": {},
   "outputs": [],
   "source": [
    "import calculate_log as callog\n",
    "\n",
    "def detect(all_test_deviations,all_ood_deviations, verbose=True, normalize=True):\n",
    "    average_results = {}\n",
    "    for i in range(1,11):\n",
    "        random.seed(i)\n",
    "        \n",
    "        validation_indices = random.sample(range(len(all_test_deviations)),int(0.1*len(all_test_deviations)))\n",
    "        test_indices = sorted(list(set(range(len(all_test_deviations)))-set(validation_indices)))\n",
    "\n",
    "        validation = all_test_deviations[validation_indices]\n",
    "        test_deviations = all_test_deviations[test_indices]\n",
    "\n",
    "        t95 = validation.mean(axis=0)+10**-7\n",
    "        if not normalize:\n",
    "            t95 = np.ones_like(t95)\n",
    "        test_deviations = (test_deviations/t95[np.newaxis,:]).sum(axis=1)\n",
    "        ood_deviations = (all_ood_deviations/t95[np.newaxis,:]).sum(axis=1)\n",
    "        \n",
    "        results = callog.compute_metric(-test_deviations,-ood_deviations)\n",
    "        for m in results:\n",
    "            average_results[m] = average_results.get(m,0)+results[m]\n",
    "    \n",
    "    for m in average_results:\n",
    "        average_results[m] /= i\n",
    "    if verbose:\n",
    "        callog.print_results(average_results)\n",
    "    return average_results\n",
    "\n",
    "def cpu(ob):\n",
    "    for i in range(len(ob)):\n",
    "        for j in range(len(ob[i])):\n",
    "            ob[i][j] = ob[i][j].cpu()\n",
    "    return ob\n",
    "\n",
    "def cuda(ob):\n",
    "    for i in range(len(ob)):\n",
    "        for j in range(len(ob[i])):\n",
    "            ob[i][j] = ob[i][j].cuda()\n",
    "    return ob\n",
    "\n",
    "class Detector:\n",
    "    def __init__(self):\n",
    "        self.all_test_deviations = None\n",
    "        self.mins = {}\n",
    "        self.maxs = {}\n",
    "        self.maxmins={}\n",
    "        self.maxmaxs={}\n",
    "        self.argmaxmins={}\n",
    "        self.argmaxmaxs={}\n",
    "        self.classes = range(10)\n",
    "    \n",
    "    def compute_minmaxs(self,data_train,POWERS=[10]):\n",
    "        for PRED in tqdm(self.classes):\n",
    "            train_indices = np.where(np.array(train_preds)==PRED)[0]\n",
    "            train_PRED = torch.squeeze(torch.stack([data_train[i][0] for i in train_indices]),dim=1)\n",
    "            mins,maxs = torch_model.get_min_max(train_PRED,power=POWERS)\n",
    "            self.mins[PRED] = cpu(mins)\n",
    "            self.maxs[PRED] = cpu(maxs)\n",
    "            torch.cuda.empty_cache()\n",
    "    \n",
    "    def compute_minmaxs_argmaxversion(self,data_train,POWERS=[10]):\n",
    "        print(\"Start\")\n",
    "        for PRED in tqdm(self.classes):\n",
    "            print('current prediction: {}'.format(PRED))\n",
    "            train_indices = np.where(np.array(train_preds)==PRED)[0]\n",
    "            print(len(train_indices))\n",
    "            train_PRED = torch.squeeze(torch.stack([data_train[i][0][0] for i in train_indices]),dim=1)\n",
    "            mins,maxs,maxmins,maxmaxs = torch_model.get_min_max_argmaxversion(train_PRED,power=POWERS)\n",
    "            self.maxmins[PRED] = cpu(maxmins)\n",
    "            self.maxmaxs[PRED] = cpu(maxmaxs)\n",
    "            self.argmaxmins[PRED] = cpu(mins)\n",
    "            self.argmaxmaxs[PRED] = cpu(maxs)\n",
    "            torch.cuda.empty_cache()\n",
    "\n",
    "    def compute_test_deviations(self,POWERS=[10]):\n",
    "        all_test_deviations = None\n",
    "        test_classes = []\n",
    "        for PRED in tqdm(self.classes):\n",
    "            test_indices = np.where(np.array(test_preds)==PRED)[0]\n",
    "            test_PRED = torch.squeeze(torch.stack([data[i][0] for i in test_indices]),dim=1)\n",
    "            test_confs_PRED = np.array([test_confs[i] for i in test_indices])\n",
    "            \n",
    "            test_classes.extend([PRED]*len(test_indices))\n",
    "            \n",
    "            mins = cuda(self.mins[PRED])\n",
    "            maxs = cuda(self.maxs[PRED])\n",
    "            test_deviations = torch_model.get_deviations(test_PRED,power=POWERS,mins=mins,maxs=maxs)/test_confs_PRED[:,np.newaxis]\n",
    "            cpu(mins)\n",
    "            cpu(maxs)\n",
    "            if all_test_deviations is None:\n",
    "                all_test_deviations = test_deviations\n",
    "            else:\n",
    "                all_test_deviations = np.concatenate([all_test_deviations,test_deviations],axis=0)\n",
    "            torch.cuda.empty_cache()\n",
    "        self.all_test_deviations = all_test_deviations\n",
    "        \n",
    "        self.test_classes = np.array(test_classes)\n",
    "    \n",
    "    def compute_test_deviations_argmaxversion(self,data,POWERS=[10]):\n",
    "        all_test_deviations = None\n",
    "        test_classes = []\n",
    "        for PRED in tqdm(self.classes):\n",
    "            test_indices = np.where(np.array(test_preds)==PRED)[0]\n",
    "            print(len(test_indices))\n",
    "            x=torch.stack([data[i][0][0] for i in test_indices])\n",
    "            test_PRED = torch.squeeze(x,dim=1)\n",
    "            test_confs_PRED = np.array([test_confs[i] for i in test_indices])\n",
    "            \n",
    "            test_classes.extend([PRED]*len(test_indices))\n",
    "\n",
    "            mins = cuda(self.mins[PRED])\n",
    "            maxs = cuda(self.maxs[PRED])\n",
    "            maxmins = cuda(self.maxmins[PRED])\n",
    "            maxmaxs = cuda(self.maxmaxs[PRED])\n",
    "            mins_argmax = cuda(self.argmaxmins[PRED])\n",
    "            maxs_argmax = cuda(self.argmaxmaxs[PRED])\n",
    "            test_deviations = torch_model.get_deviations(test_PRED,power=POWERS,mins=mins,maxs=maxs)/test_confs_PRED[:,np.newaxis] + (1+torch_model.get_deviations_maxversion(test_PRED,power=POWERS,mins=maxmins,maxs=maxmaxs)/test_confs_PRED[:,np.newaxis]) * (torch_model.get_deviations_argmaxversion(test_PRED,power=POWERS,mins=mins_argmax,maxs=maxs_argmax)/test_confs_PRED[:,np.newaxis])\n",
    "            cpu(mins)\n",
    "            cpu(maxs)\n",
    "            cpu(maxmins)\n",
    "            cpu(maxmaxs)\n",
    "            cpu(mins_argmax)\n",
    "            cpu(maxs_argmax)\n",
    "            if all_test_deviations is None:\n",
    "                all_test_deviations = test_deviations\n",
    "            else:\n",
    "                all_test_deviations = np.concatenate([all_test_deviations,test_deviations],axis=0)\n",
    "            torch.cuda.empty_cache()\n",
    "        self.all_test_deviations = all_test_deviations\n",
    "        \n",
    "        self.test_classes = np.array(test_classes)\n",
    "\n",
    "\n",
    "    def compute_ood_deviations(self,ood,POWERS=[10]):\n",
    "        ood_preds = []\n",
    "        ood_confs = []\n",
    "        \n",
    "        for idx in range(0,len(ood),128):\n",
    "            batch = torch.squeeze(torch.stack([x[0] for x in ood[idx:idx+128]]),dim=1).cuda()\n",
    "            logits = torch_model(batch)\n",
    "            confs = F.softmax(logits,dim=1).cpu().detach().numpy()\n",
    "            preds = np.argmax(confs,axis=1)\n",
    "            \n",
    "            ood_confs.extend(np.max(confs,axis=1))\n",
    "            ood_preds.extend(preds)  \n",
    "            torch.cuda.empty_cache()\n",
    "        print(\"Done\")\n",
    "        \n",
    "        ood_classes = []\n",
    "        all_ood_deviations = None\n",
    "        for PRED in tqdm(self.classes):\n",
    "            ood_indices = np.where(np.array(ood_preds)==PRED)[0]\n",
    "            if len(ood_indices)==0:\n",
    "                continue\n",
    "            ood_classes.extend([PRED]*len(ood_indices))\n",
    "            \n",
    "            ood_PRED = torch.squeeze(torch.stack([ood[i][0] for i in ood_indices]),dim=1)\n",
    "            ood_confs_PRED =  np.array([ood_confs[i] for i in ood_indices])\n",
    "            mins = cuda(self.mins[PRED])\n",
    "            maxs = cuda(self.maxs[PRED])\n",
    "            ood_deviations = torch_model.get_deviations(ood_PRED,power=POWERS,mins=mins,maxs=maxs)/ood_confs_PRED[:,np.newaxis]\n",
    "            cpu(self.mins[PRED])\n",
    "            cpu(self.maxs[PRED])            \n",
    "            if all_ood_deviations is None:\n",
    "                all_ood_deviations = ood_deviations\n",
    "            else:\n",
    "                all_ood_deviations = np.concatenate([all_ood_deviations,ood_deviations],axis=0)\n",
    "            torch.cuda.empty_cache()\n",
    "            \n",
    "        self.ood_classes = np.array(ood_classes)\n",
    "        \n",
    "        average_results = detect(self.all_test_deviations,all_ood_deviations)\n",
    "        return average_results, self.all_test_deviations, all_ood_deviations\n",
    "\n",
    "\n",
    "    def compute_ood_deviations_argmaxversion(self,ood,POWERS=[10]):\n",
    "        ood_preds = []\n",
    "        ood_confs = []\n",
    "        batch_size=256\n",
    "        for idx in range(0,len(ood),batch_size):\n",
    "            batch = torch.squeeze(torch.stack([x[0] for x in ood[idx:idx+batch_size]]),dim=1).cuda()\n",
    "            logits = torch_model(batch)\n",
    "            confs = F.softmax(logits,dim=1).cpu().detach().numpy()\n",
    "            preds = np.argmax(confs,axis=1)\n",
    "            \n",
    "            ood_confs.extend(np.max(confs,axis=1))\n",
    "            ood_preds.extend(preds)  \n",
    "            torch.cuda.empty_cache()\n",
    "        print(\"Done\")\n",
    "        \n",
    "        ood_classes = []\n",
    "        all_ood_deviations = None\n",
    "        for PRED in tqdm(self.classes):\n",
    "            ood_indices = np.where(np.array(ood_preds)==PRED)[0]\n",
    "            if len(ood_indices)==0:\n",
    "                continue\n",
    "            ood_classes.extend([PRED]*len(ood_indices))\n",
    "            \n",
    "            ood_PRED = torch.squeeze(torch.stack([ood[i][0][0] for i in ood_indices]),dim=1)\n",
    "            # gram_entire_values,gram_entire_indexes = torch_model.get_entire_Gram(ood_PRED,power=POWERS)\n",
    "            # self.grams_values[PRED]=gram_entire_values\n",
    "            # self.grams_indexes[PRED]=gram_entire_indexes\n",
    "\n",
    "            ood_confs_PRED =  np.array([ood_confs[i] for i in ood_indices])\n",
    "            mins = cuda(self.mins[PRED])\n",
    "            maxs = cuda(self.maxs[PRED])\n",
    "            maxmins = cuda(self.maxmins[PRED])\n",
    "            maxmaxs = cuda(self.maxmaxs[PRED])\n",
    "            mins_argmax = cuda(self.argmaxmins[PRED])\n",
    "            maxs_argmax = cuda(self.argmaxmaxs[PRED])\n",
    "            ood_deviations = torch_model.get_deviations(ood_PRED,power=POWERS,mins=mins,maxs=maxs)/ood_confs_PRED[:,np.newaxis] + (1+torch_model.get_deviations_maxversion(ood_PRED,power=POWERS,mins=maxmins,maxs=maxmaxs)/ood_confs_PRED[:,np.newaxis]) * (torch_model.get_deviations_argmaxversion(ood_PRED,power=POWERS,mins=mins_argmax,maxs=maxs_argmax)/ood_confs_PRED[:,np.newaxis])\n",
    "\n",
    "            cpu(self.mins[PRED])\n",
    "            cpu(self.maxs[PRED])            \n",
    "            cpu(self.maxmins[PRED])\n",
    "            cpu(self.maxmaxs[PRED])            \n",
    "            cpu(self.argmaxmins[PRED])\n",
    "            cpu(self.argmaxmaxs[PRED])   \n",
    "\n",
    "            if all_ood_deviations is None:\n",
    "                all_ood_deviations = ood_deviations\n",
    "            else:\n",
    "                all_ood_deviations = np.concatenate([all_ood_deviations,ood_deviations],axis=0)\n",
    "            torch.cuda.empty_cache()\n",
    "            \n",
    "        self.ood_classes = np.array(ood_classes)\n",
    "        \n",
    "        average_results = detect(self.all_test_deviations,all_ood_deviations)\n",
    "        return average_results, self.all_test_deviations, all_ood_deviations\n",
    "\n",
    "        "
   ]
  },
  {
   "cell_type": "markdown",
   "metadata": {},
   "source": [
    "<center><h1> Results </h1></center>"
   ]
  },
  {
   "cell_type": "code",
   "execution_count": 20,
   "metadata": {
    "tags": []
   },
   "outputs": [
    {
     "output_type": "display_data",
     "data": {
      "text/plain": "HBox(children=(FloatProgress(value=0.0, max=10.0), HTML(value='')))",
      "application/vnd.jupyter.widget-view+json": {
       "version_major": 2,
       "version_minor": 0,
       "model_id": "428b6738f2c9440ba587d6d350753884"
      }
     },
     "metadata": {}
    },
    {
     "output_type": "stream",
     "name": "stdout",
     "text": [
      "\nStart\n"
     ]
    },
    {
     "output_type": "display_data",
     "data": {
      "text/plain": "HBox(children=(FloatProgress(value=0.0, max=10.0), HTML(value='')))",
      "application/vnd.jupyter.widget-view+json": {
       "version_major": 2,
       "version_minor": 0,
       "model_id": "898f05f2f7f54a9c9786b36db12ae59a"
      }
     },
     "metadata": {}
    },
    {
     "output_type": "stream",
     "name": "stdout",
     "text": [
      "current prediction: 0\n4988\n\n"
     ]
    },
    {
     "output_type": "error",
     "ename": "NameError",
     "evalue": "name 'G_p_argmax' is not defined",
     "traceback": [
      "\u001b[0;31m---------------------------------------------------------------------------\u001b[0m",
      "\u001b[0;31mNameError\u001b[0m                                 Traceback (most recent call last)",
      "\u001b[0;32m<ipython-input-20-5be818450137>\u001b[0m in \u001b[0;36m<module>\u001b[0;34m\u001b[0m\n\u001b[1;32m     11\u001b[0m \u001b[0mdetector\u001b[0m \u001b[0;34m=\u001b[0m \u001b[0mDetector\u001b[0m\u001b[0;34m(\u001b[0m\u001b[0;34m)\u001b[0m\u001b[0;34m\u001b[0m\u001b[0;34m\u001b[0m\u001b[0m\n\u001b[1;32m     12\u001b[0m \u001b[0mdetector\u001b[0m\u001b[0;34m.\u001b[0m\u001b[0mcompute_minmaxs\u001b[0m\u001b[0;34m(\u001b[0m\u001b[0mdata_train\u001b[0m\u001b[0;34m,\u001b[0m\u001b[0mPOWERS\u001b[0m\u001b[0;34m=\u001b[0m\u001b[0mrange\u001b[0m\u001b[0;34m(\u001b[0m\u001b[0;36m1\u001b[0m\u001b[0;34m,\u001b[0m\u001b[0;36m11\u001b[0m\u001b[0;34m)\u001b[0m\u001b[0;34m)\u001b[0m\u001b[0;34m\u001b[0m\u001b[0;34m\u001b[0m\u001b[0m\n\u001b[0;32m---> 13\u001b[0;31m \u001b[0mdetector\u001b[0m\u001b[0;34m.\u001b[0m\u001b[0mcompute_minmaxs_argmaxversion\u001b[0m\u001b[0;34m(\u001b[0m\u001b[0mdata_train\u001b[0m\u001b[0;34m,\u001b[0m\u001b[0mPOWERS\u001b[0m\u001b[0;34m=\u001b[0m\u001b[0mrange\u001b[0m\u001b[0;34m(\u001b[0m\u001b[0;36m1\u001b[0m\u001b[0;34m,\u001b[0m\u001b[0;36m11\u001b[0m\u001b[0;34m)\u001b[0m\u001b[0;34m)\u001b[0m\u001b[0;34m\u001b[0m\u001b[0;34m\u001b[0m\u001b[0m\n\u001b[0m\u001b[1;32m     14\u001b[0m \u001b[0;34m\u001b[0m\u001b[0m\n\u001b[1;32m     15\u001b[0m \u001b[0;34m\u001b[0m\u001b[0m\n",
      "\u001b[0;32m<ipython-input-19-d8583e8c9fc5>\u001b[0m in \u001b[0;36mcompute_minmaxs_argmaxversion\u001b[0;34m(self, data_train, POWERS)\u001b[0m\n\u001b[1;32m     67\u001b[0m             \u001b[0mprint\u001b[0m\u001b[0;34m(\u001b[0m\u001b[0mlen\u001b[0m\u001b[0;34m(\u001b[0m\u001b[0mtrain_indices\u001b[0m\u001b[0;34m)\u001b[0m\u001b[0;34m)\u001b[0m\u001b[0;34m\u001b[0m\u001b[0;34m\u001b[0m\u001b[0m\n\u001b[1;32m     68\u001b[0m             \u001b[0mtrain_PRED\u001b[0m \u001b[0;34m=\u001b[0m \u001b[0mtorch\u001b[0m\u001b[0;34m.\u001b[0m\u001b[0msqueeze\u001b[0m\u001b[0;34m(\u001b[0m\u001b[0mtorch\u001b[0m\u001b[0;34m.\u001b[0m\u001b[0mstack\u001b[0m\u001b[0;34m(\u001b[0m\u001b[0;34m[\u001b[0m\u001b[0mdata_train\u001b[0m\u001b[0;34m[\u001b[0m\u001b[0mi\u001b[0m\u001b[0;34m]\u001b[0m\u001b[0;34m[\u001b[0m\u001b[0;36m0\u001b[0m\u001b[0;34m]\u001b[0m\u001b[0;34m[\u001b[0m\u001b[0;36m0\u001b[0m\u001b[0;34m]\u001b[0m \u001b[0;32mfor\u001b[0m \u001b[0mi\u001b[0m \u001b[0;32min\u001b[0m \u001b[0mtrain_indices\u001b[0m\u001b[0;34m]\u001b[0m\u001b[0;34m)\u001b[0m\u001b[0;34m,\u001b[0m\u001b[0mdim\u001b[0m\u001b[0;34m=\u001b[0m\u001b[0;36m1\u001b[0m\u001b[0;34m)\u001b[0m\u001b[0;34m\u001b[0m\u001b[0;34m\u001b[0m\u001b[0m\n\u001b[0;32m---> 69\u001b[0;31m             \u001b[0mmins\u001b[0m\u001b[0;34m,\u001b[0m\u001b[0mmaxs\u001b[0m\u001b[0;34m,\u001b[0m\u001b[0mmaxmins\u001b[0m\u001b[0;34m,\u001b[0m\u001b[0mmaxmaxs\u001b[0m \u001b[0;34m=\u001b[0m \u001b[0mtorch_model\u001b[0m\u001b[0;34m.\u001b[0m\u001b[0mget_min_max_argmaxversion\u001b[0m\u001b[0;34m(\u001b[0m\u001b[0mtrain_PRED\u001b[0m\u001b[0;34m,\u001b[0m\u001b[0mpower\u001b[0m\u001b[0;34m=\u001b[0m\u001b[0mPOWERS\u001b[0m\u001b[0;34m)\u001b[0m\u001b[0;34m\u001b[0m\u001b[0;34m\u001b[0m\u001b[0m\n\u001b[0m\u001b[1;32m     70\u001b[0m             \u001b[0mself\u001b[0m\u001b[0;34m.\u001b[0m\u001b[0mmaxmins\u001b[0m\u001b[0;34m[\u001b[0m\u001b[0mPRED\u001b[0m\u001b[0;34m]\u001b[0m \u001b[0;34m=\u001b[0m \u001b[0mcpu\u001b[0m\u001b[0;34m(\u001b[0m\u001b[0mmaxmins\u001b[0m\u001b[0;34m)\u001b[0m\u001b[0;34m\u001b[0m\u001b[0;34m\u001b[0m\u001b[0m\n\u001b[1;32m     71\u001b[0m             \u001b[0mself\u001b[0m\u001b[0;34m.\u001b[0m\u001b[0mmaxmaxs\u001b[0m\u001b[0;34m[\u001b[0m\u001b[0mPRED\u001b[0m\u001b[0;34m]\u001b[0m \u001b[0;34m=\u001b[0m \u001b[0mcpu\u001b[0m\u001b[0;34m(\u001b[0m\u001b[0mmaxmaxs\u001b[0m\u001b[0;34m)\u001b[0m\u001b[0;34m\u001b[0m\u001b[0;34m\u001b[0m\u001b[0m\n",
      "\u001b[0;32m<ipython-input-3-c2f610b15cd7>\u001b[0m in \u001b[0;36mget_min_max_argmaxversion\u001b[0;34m(self, data, power)\u001b[0m\n\u001b[1;32m    155\u001b[0m \u001b[0;34m\u001b[0m\u001b[0m\n\u001b[1;32m    156\u001b[0m                         \u001b[0;32mfor\u001b[0m \u001b[0mp\u001b[0m\u001b[0;34m,\u001b[0m\u001b[0mP\u001b[0m \u001b[0;32min\u001b[0m \u001b[0menumerate\u001b[0m\u001b[0;34m(\u001b[0m\u001b[0mpower\u001b[0m\u001b[0;34m)\u001b[0m\u001b[0;34m:\u001b[0m\u001b[0;34m\u001b[0m\u001b[0;34m\u001b[0m\u001b[0m\n\u001b[0;32m--> 157\u001b[0;31m                             \u001b[0mg_p\u001b[0m \u001b[0;34m=\u001b[0m \u001b[0mG_p_argmax\u001b[0m\u001b[0;34m(\u001b[0m\u001b[0mfeat_L\u001b[0m\u001b[0;34m,\u001b[0m\u001b[0mP\u001b[0m\u001b[0;34m)\u001b[0m\u001b[0;34m\u001b[0m\u001b[0;34m\u001b[0m\u001b[0m\n\u001b[0m\u001b[1;32m    158\u001b[0m \u001b[0;34m\u001b[0m\u001b[0m\n\u001b[1;32m    159\u001b[0m                             \u001b[0mcurrent_min\u001b[0m \u001b[0;34m=\u001b[0m \u001b[0mg_p\u001b[0m\u001b[0;34m[\u001b[0m\u001b[0;36m1\u001b[0m\u001b[0;34m]\u001b[0m\u001b[0;34m.\u001b[0m\u001b[0mmin\u001b[0m\u001b[0;34m(\u001b[0m\u001b[0mdim\u001b[0m\u001b[0;34m=\u001b[0m\u001b[0;36m0\u001b[0m\u001b[0;34m,\u001b[0m\u001b[0mkeepdim\u001b[0m\u001b[0;34m=\u001b[0m\u001b[0;32mTrue\u001b[0m\u001b[0;34m)\u001b[0m\u001b[0;34m[\u001b[0m\u001b[0;36m0\u001b[0m\u001b[0;34m]\u001b[0m\u001b[0;34m\u001b[0m\u001b[0;34m\u001b[0m\u001b[0m\n",
      "\u001b[0;31mNameError\u001b[0m: name 'G_p_argmax' is not defined"
     ]
    }
   ],
   "source": [
    "def G_p(ob, p):\n",
    "    temp = ob.detach()\n",
    "    \n",
    "    temp = temp**p\n",
    "    temp = temp.reshape(temp.shape[0],temp.shape[1],-1)\n",
    "    temp = ((torch.matmul(temp,temp.transpose(dim0=2,dim1=1)))).sum(dim=2) \n",
    "    temp = (temp.sign()*torch.abs(temp)**(1/p)).reshape(temp.shape[0],-1)\n",
    "    \n",
    "    return temp\n",
    "\n",
    "detector = Detector()\n",
    "Print(\"Computing MinMax\")\n",
    "detector.compute_minmaxs(data_train,POWERS=range(1,11))"
   ]
  },
  {
   "cell_type": "code",
   "execution_count": 22,
   "metadata": {},
   "outputs": [
    {
     "output_type": "stream",
     "name": "stdout",
     "text": [
      "Computing MinMax Argmaxversion\nStart\n"
     ]
    },
    {
     "output_type": "display_data",
     "data": {
      "text/plain": "HBox(children=(FloatProgress(value=0.0, max=10.0), HTML(value='')))",
      "application/vnd.jupyter.widget-view+json": {
       "version_major": 2,
       "version_minor": 0,
       "model_id": "00d0089d20fc41f3ac85682f93f198b6"
      }
     },
     "metadata": {}
    },
    {
     "output_type": "stream",
     "name": "stdout",
     "text": [
      "current prediction: 0\n4988\n\n"
     ]
    },
    {
     "output_type": "error",
     "ename": "RuntimeError",
     "evalue": "CUDA out of memory. Tried to allocate 64.00 MiB (GPU 1; 10.92 GiB total capacity; 4.20 GiB already allocated; 38.38 MiB free; 4.29 GiB reserved in total by PyTorch)",
     "traceback": [
      "\u001b[0;31m---------------------------------------------------------------------------\u001b[0m",
      "\u001b[0;31mRuntimeError\u001b[0m                              Traceback (most recent call last)",
      "\u001b[0;32m<ipython-input-22-0d9450eb72c3>\u001b[0m in \u001b[0;36m<module>\u001b[0;34m\u001b[0m\n\u001b[1;32m     10\u001b[0m \u001b[0;34m\u001b[0m\u001b[0m\n\u001b[1;32m     11\u001b[0m \u001b[0mprint\u001b[0m\u001b[0;34m(\u001b[0m\u001b[0;34m\"Computing MinMax Argmaxversion\"\u001b[0m\u001b[0;34m)\u001b[0m\u001b[0;34m\u001b[0m\u001b[0;34m\u001b[0m\u001b[0m\n\u001b[0;32m---> 12\u001b[0;31m \u001b[0mdetector\u001b[0m\u001b[0;34m.\u001b[0m\u001b[0mcompute_minmaxs_argmaxversion\u001b[0m\u001b[0;34m(\u001b[0m\u001b[0mdata_train\u001b[0m\u001b[0;34m,\u001b[0m\u001b[0mPOWERS\u001b[0m\u001b[0;34m=\u001b[0m\u001b[0mrange\u001b[0m\u001b[0;34m(\u001b[0m\u001b[0;36m1\u001b[0m\u001b[0;34m,\u001b[0m\u001b[0;36m11\u001b[0m\u001b[0;34m)\u001b[0m\u001b[0;34m)\u001b[0m\u001b[0;34m\u001b[0m\u001b[0;34m\u001b[0m\u001b[0m\n\u001b[0m\u001b[1;32m     13\u001b[0m \u001b[0;34m\u001b[0m\u001b[0m\n\u001b[1;32m     14\u001b[0m \u001b[0mprint\u001b[0m\u001b[0;34m(\u001b[0m\u001b[0;34m\"Computing Test Deviation\"\u001b[0m\u001b[0;34m)\u001b[0m\u001b[0;34m\u001b[0m\u001b[0;34m\u001b[0m\u001b[0m\n",
      "\u001b[0;32m<ipython-input-19-d8583e8c9fc5>\u001b[0m in \u001b[0;36mcompute_minmaxs_argmaxversion\u001b[0;34m(self, data_train, POWERS)\u001b[0m\n\u001b[1;32m     67\u001b[0m             \u001b[0mprint\u001b[0m\u001b[0;34m(\u001b[0m\u001b[0mlen\u001b[0m\u001b[0;34m(\u001b[0m\u001b[0mtrain_indices\u001b[0m\u001b[0;34m)\u001b[0m\u001b[0;34m)\u001b[0m\u001b[0;34m\u001b[0m\u001b[0;34m\u001b[0m\u001b[0m\n\u001b[1;32m     68\u001b[0m             \u001b[0mtrain_PRED\u001b[0m \u001b[0;34m=\u001b[0m \u001b[0mtorch\u001b[0m\u001b[0;34m.\u001b[0m\u001b[0msqueeze\u001b[0m\u001b[0;34m(\u001b[0m\u001b[0mtorch\u001b[0m\u001b[0;34m.\u001b[0m\u001b[0mstack\u001b[0m\u001b[0;34m(\u001b[0m\u001b[0;34m[\u001b[0m\u001b[0mdata_train\u001b[0m\u001b[0;34m[\u001b[0m\u001b[0mi\u001b[0m\u001b[0;34m]\u001b[0m\u001b[0;34m[\u001b[0m\u001b[0;36m0\u001b[0m\u001b[0;34m]\u001b[0m\u001b[0;34m[\u001b[0m\u001b[0;36m0\u001b[0m\u001b[0;34m]\u001b[0m \u001b[0;32mfor\u001b[0m \u001b[0mi\u001b[0m \u001b[0;32min\u001b[0m \u001b[0mtrain_indices\u001b[0m\u001b[0;34m]\u001b[0m\u001b[0;34m)\u001b[0m\u001b[0;34m,\u001b[0m\u001b[0mdim\u001b[0m\u001b[0;34m=\u001b[0m\u001b[0;36m1\u001b[0m\u001b[0;34m)\u001b[0m\u001b[0;34m\u001b[0m\u001b[0;34m\u001b[0m\u001b[0m\n\u001b[0;32m---> 69\u001b[0;31m             \u001b[0mmins\u001b[0m\u001b[0;34m,\u001b[0m\u001b[0mmaxs\u001b[0m\u001b[0;34m,\u001b[0m\u001b[0mmaxmins\u001b[0m\u001b[0;34m,\u001b[0m\u001b[0mmaxmaxs\u001b[0m \u001b[0;34m=\u001b[0m \u001b[0mtorch_model\u001b[0m\u001b[0;34m.\u001b[0m\u001b[0mget_min_max_argmaxversion\u001b[0m\u001b[0;34m(\u001b[0m\u001b[0mtrain_PRED\u001b[0m\u001b[0;34m,\u001b[0m\u001b[0mpower\u001b[0m\u001b[0;34m=\u001b[0m\u001b[0mPOWERS\u001b[0m\u001b[0;34m)\u001b[0m\u001b[0;34m\u001b[0m\u001b[0;34m\u001b[0m\u001b[0m\n\u001b[0m\u001b[1;32m     70\u001b[0m             \u001b[0mself\u001b[0m\u001b[0;34m.\u001b[0m\u001b[0mmaxmins\u001b[0m\u001b[0;34m[\u001b[0m\u001b[0mPRED\u001b[0m\u001b[0;34m]\u001b[0m \u001b[0;34m=\u001b[0m \u001b[0mcpu\u001b[0m\u001b[0;34m(\u001b[0m\u001b[0mmaxmins\u001b[0m\u001b[0;34m)\u001b[0m\u001b[0;34m\u001b[0m\u001b[0;34m\u001b[0m\u001b[0m\n\u001b[1;32m     71\u001b[0m             \u001b[0mself\u001b[0m\u001b[0;34m.\u001b[0m\u001b[0mmaxmaxs\u001b[0m\u001b[0;34m[\u001b[0m\u001b[0mPRED\u001b[0m\u001b[0;34m]\u001b[0m \u001b[0;34m=\u001b[0m \u001b[0mcpu\u001b[0m\u001b[0;34m(\u001b[0m\u001b[0mmaxmaxs\u001b[0m\u001b[0;34m)\u001b[0m\u001b[0;34m\u001b[0m\u001b[0;34m\u001b[0m\u001b[0m\n",
      "\u001b[0;32m<ipython-input-3-c2f610b15cd7>\u001b[0m in \u001b[0;36mget_min_max_argmaxversion\u001b[0;34m(self, data, power)\u001b[0m\n\u001b[1;32m    144\u001b[0m             \u001b[0;32mfor\u001b[0m \u001b[0mi\u001b[0m \u001b[0;32min\u001b[0m \u001b[0mrange\u001b[0m\u001b[0;34m(\u001b[0m\u001b[0;36m0\u001b[0m\u001b[0;34m,\u001b[0m\u001b[0mlen\u001b[0m\u001b[0;34m(\u001b[0m\u001b[0mdata\u001b[0m\u001b[0;34m)\u001b[0m\u001b[0;34m,\u001b[0m\u001b[0mbatch_size\u001b[0m\u001b[0;34m)\u001b[0m\u001b[0;34m:\u001b[0m\u001b[0;34m\u001b[0m\u001b[0;34m\u001b[0m\u001b[0m\n\u001b[1;32m    145\u001b[0m                 \u001b[0mbatch\u001b[0m \u001b[0;34m=\u001b[0m \u001b[0mdata\u001b[0m\u001b[0;34m[\u001b[0m\u001b[0mi\u001b[0m\u001b[0;34m:\u001b[0m\u001b[0mi\u001b[0m\u001b[0;34m+\u001b[0m\u001b[0mbatch_size\u001b[0m\u001b[0;34m]\u001b[0m\u001b[0;34m.\u001b[0m\u001b[0mcuda\u001b[0m\u001b[0;34m(\u001b[0m\u001b[0;34m)\u001b[0m\u001b[0;34m\u001b[0m\u001b[0;34m\u001b[0m\u001b[0m\n\u001b[0;32m--> 146\u001b[0;31m                 \u001b[0mfeat_list\u001b[0m \u001b[0;34m=\u001b[0m \u001b[0mself\u001b[0m\u001b[0;34m.\u001b[0m\u001b[0mgram_feature_list\u001b[0m\u001b[0;34m(\u001b[0m\u001b[0mbatch\u001b[0m\u001b[0;34m)\u001b[0m\u001b[0;34m\u001b[0m\u001b[0;34m\u001b[0m\u001b[0m\n\u001b[0m\u001b[1;32m    147\u001b[0m                 \u001b[0;32mfor\u001b[0m \u001b[0mL1\u001b[0m\u001b[0;34m,\u001b[0m\u001b[0mfeat_L\u001b[0m \u001b[0;32min\u001b[0m \u001b[0menumerate\u001b[0m\u001b[0;34m(\u001b[0m\u001b[0mfeat_list\u001b[0m\u001b[0;34m)\u001b[0m\u001b[0;34m:\u001b[0m\u001b[0;34m\u001b[0m\u001b[0;34m\u001b[0m\u001b[0m\n\u001b[1;32m    148\u001b[0m                     \u001b[0;32mif\u001b[0m \u001b[0mL1\u001b[0m\u001b[0;34m%\u001b[0m\u001b[0mwhich_layer\u001b[0m\u001b[0;34m==\u001b[0m\u001b[0;36m0\u001b[0m\u001b[0;34m:\u001b[0m\u001b[0;34m\u001b[0m\u001b[0;34m\u001b[0m\u001b[0m\n",
      "\u001b[0;32m<ipython-input-3-c2f610b15cd7>\u001b[0m in \u001b[0;36mgram_feature_list\u001b[0;34m(self, x)\u001b[0m\n\u001b[1;32m     77\u001b[0m         \u001b[0mself\u001b[0m\u001b[0;34m.\u001b[0m\u001b[0mcollecting\u001b[0m \u001b[0;34m=\u001b[0m \u001b[0;32mTrue\u001b[0m\u001b[0;34m\u001b[0m\u001b[0;34m\u001b[0m\u001b[0m\n\u001b[1;32m     78\u001b[0m         \u001b[0mself\u001b[0m\u001b[0;34m.\u001b[0m\u001b[0mgram_feats\u001b[0m \u001b[0;34m=\u001b[0m \u001b[0;34m[\u001b[0m\u001b[0;34m]\u001b[0m\u001b[0;34m\u001b[0m\u001b[0;34m\u001b[0m\u001b[0m\n\u001b[0;32m---> 79\u001b[0;31m         \u001b[0mself\u001b[0m\u001b[0;34m.\u001b[0m\u001b[0mforward\u001b[0m\u001b[0;34m(\u001b[0m\u001b[0mx\u001b[0m\u001b[0;34m)\u001b[0m\u001b[0;34m\u001b[0m\u001b[0;34m\u001b[0m\u001b[0m\n\u001b[0m\u001b[1;32m     80\u001b[0m         \u001b[0mself\u001b[0m\u001b[0;34m.\u001b[0m\u001b[0mcollecting\u001b[0m \u001b[0;34m=\u001b[0m \u001b[0;32mFalse\u001b[0m\u001b[0;34m\u001b[0m\u001b[0;34m\u001b[0m\u001b[0m\n\u001b[1;32m     81\u001b[0m         \u001b[0mtemp\u001b[0m \u001b[0;34m=\u001b[0m \u001b[0mself\u001b[0m\u001b[0;34m.\u001b[0m\u001b[0mgram_feats\u001b[0m\u001b[0;34m\u001b[0m\u001b[0;34m\u001b[0m\u001b[0m\n",
      "\u001b[0;32m<ipython-input-3-c2f610b15cd7>\u001b[0m in \u001b[0;36mforward\u001b[0;34m(self, x)\u001b[0m\n\u001b[1;32m     61\u001b[0m     \u001b[0;32mdef\u001b[0m \u001b[0mforward\u001b[0m\u001b[0;34m(\u001b[0m\u001b[0mself\u001b[0m\u001b[0;34m,\u001b[0m \u001b[0mx\u001b[0m\u001b[0;34m)\u001b[0m\u001b[0;34m:\u001b[0m\u001b[0;34m\u001b[0m\u001b[0;34m\u001b[0m\u001b[0m\n\u001b[1;32m     62\u001b[0m         \u001b[0mout\u001b[0m \u001b[0;34m=\u001b[0m \u001b[0mF\u001b[0m\u001b[0;34m.\u001b[0m\u001b[0mrelu\u001b[0m\u001b[0;34m(\u001b[0m\u001b[0mself\u001b[0m\u001b[0;34m.\u001b[0m\u001b[0mbn1\u001b[0m\u001b[0;34m(\u001b[0m\u001b[0mself\u001b[0m\u001b[0;34m.\u001b[0m\u001b[0mconv1\u001b[0m\u001b[0;34m(\u001b[0m\u001b[0mx\u001b[0m\u001b[0;34m)\u001b[0m\u001b[0;34m)\u001b[0m\u001b[0;34m)\u001b[0m\u001b[0;34m\u001b[0m\u001b[0;34m\u001b[0m\u001b[0m\n\u001b[0;32m---> 63\u001b[0;31m         \u001b[0mout\u001b[0m \u001b[0;34m=\u001b[0m \u001b[0mself\u001b[0m\u001b[0;34m.\u001b[0m\u001b[0mlayer1\u001b[0m\u001b[0;34m(\u001b[0m\u001b[0mout\u001b[0m\u001b[0;34m)\u001b[0m\u001b[0;34m\u001b[0m\u001b[0;34m\u001b[0m\u001b[0m\n\u001b[0m\u001b[1;32m     64\u001b[0m         \u001b[0mout\u001b[0m \u001b[0;34m=\u001b[0m \u001b[0mself\u001b[0m\u001b[0;34m.\u001b[0m\u001b[0mlayer2\u001b[0m\u001b[0;34m(\u001b[0m\u001b[0mout\u001b[0m\u001b[0;34m)\u001b[0m\u001b[0;34m\u001b[0m\u001b[0;34m\u001b[0m\u001b[0m\n\u001b[1;32m     65\u001b[0m         \u001b[0mout\u001b[0m \u001b[0;34m=\u001b[0m \u001b[0mself\u001b[0m\u001b[0;34m.\u001b[0m\u001b[0mlayer3\u001b[0m\u001b[0;34m(\u001b[0m\u001b[0mout\u001b[0m\u001b[0;34m)\u001b[0m\u001b[0;34m\u001b[0m\u001b[0;34m\u001b[0m\u001b[0m\n",
      "\u001b[0;32m~/anaconda3/envs/ood/lib/python3.7/site-packages/torch/nn/modules/module.py\u001b[0m in \u001b[0;36m_call_impl\u001b[0;34m(self, *input, **kwargs)\u001b[0m\n\u001b[1;32m    720\u001b[0m             \u001b[0mresult\u001b[0m \u001b[0;34m=\u001b[0m \u001b[0mself\u001b[0m\u001b[0;34m.\u001b[0m\u001b[0m_slow_forward\u001b[0m\u001b[0;34m(\u001b[0m\u001b[0;34m*\u001b[0m\u001b[0minput\u001b[0m\u001b[0;34m,\u001b[0m \u001b[0;34m**\u001b[0m\u001b[0mkwargs\u001b[0m\u001b[0;34m)\u001b[0m\u001b[0;34m\u001b[0m\u001b[0;34m\u001b[0m\u001b[0m\n\u001b[1;32m    721\u001b[0m         \u001b[0;32melse\u001b[0m\u001b[0;34m:\u001b[0m\u001b[0;34m\u001b[0m\u001b[0;34m\u001b[0m\u001b[0m\n\u001b[0;32m--> 722\u001b[0;31m             \u001b[0mresult\u001b[0m \u001b[0;34m=\u001b[0m \u001b[0mself\u001b[0m\u001b[0;34m.\u001b[0m\u001b[0mforward\u001b[0m\u001b[0;34m(\u001b[0m\u001b[0;34m*\u001b[0m\u001b[0minput\u001b[0m\u001b[0;34m,\u001b[0m \u001b[0;34m**\u001b[0m\u001b[0mkwargs\u001b[0m\u001b[0;34m)\u001b[0m\u001b[0;34m\u001b[0m\u001b[0;34m\u001b[0m\u001b[0m\n\u001b[0m\u001b[1;32m    723\u001b[0m         for hook in itertools.chain(\n\u001b[1;32m    724\u001b[0m                 \u001b[0m_global_forward_hooks\u001b[0m\u001b[0;34m.\u001b[0m\u001b[0mvalues\u001b[0m\u001b[0;34m(\u001b[0m\u001b[0;34m)\u001b[0m\u001b[0;34m,\u001b[0m\u001b[0;34m\u001b[0m\u001b[0;34m\u001b[0m\u001b[0m\n",
      "\u001b[0;32m~/anaconda3/envs/ood/lib/python3.7/site-packages/torch/nn/modules/container.py\u001b[0m in \u001b[0;36mforward\u001b[0;34m(self, input)\u001b[0m\n\u001b[1;32m    115\u001b[0m     \u001b[0;32mdef\u001b[0m \u001b[0mforward\u001b[0m\u001b[0;34m(\u001b[0m\u001b[0mself\u001b[0m\u001b[0;34m,\u001b[0m \u001b[0minput\u001b[0m\u001b[0;34m)\u001b[0m\u001b[0;34m:\u001b[0m\u001b[0;34m\u001b[0m\u001b[0;34m\u001b[0m\u001b[0m\n\u001b[1;32m    116\u001b[0m         \u001b[0;32mfor\u001b[0m \u001b[0mmodule\u001b[0m \u001b[0;32min\u001b[0m \u001b[0mself\u001b[0m\u001b[0;34m:\u001b[0m\u001b[0;34m\u001b[0m\u001b[0;34m\u001b[0m\u001b[0m\n\u001b[0;32m--> 117\u001b[0;31m             \u001b[0minput\u001b[0m \u001b[0;34m=\u001b[0m \u001b[0mmodule\u001b[0m\u001b[0;34m(\u001b[0m\u001b[0minput\u001b[0m\u001b[0;34m)\u001b[0m\u001b[0;34m\u001b[0m\u001b[0;34m\u001b[0m\u001b[0m\n\u001b[0m\u001b[1;32m    118\u001b[0m         \u001b[0;32mreturn\u001b[0m \u001b[0minput\u001b[0m\u001b[0;34m\u001b[0m\u001b[0;34m\u001b[0m\u001b[0m\n\u001b[1;32m    119\u001b[0m \u001b[0;34m\u001b[0m\u001b[0m\n",
      "\u001b[0;32m~/anaconda3/envs/ood/lib/python3.7/site-packages/torch/nn/modules/module.py\u001b[0m in \u001b[0;36m_call_impl\u001b[0;34m(self, *input, **kwargs)\u001b[0m\n\u001b[1;32m    720\u001b[0m             \u001b[0mresult\u001b[0m \u001b[0;34m=\u001b[0m \u001b[0mself\u001b[0m\u001b[0;34m.\u001b[0m\u001b[0m_slow_forward\u001b[0m\u001b[0;34m(\u001b[0m\u001b[0;34m*\u001b[0m\u001b[0minput\u001b[0m\u001b[0;34m,\u001b[0m \u001b[0;34m**\u001b[0m\u001b[0mkwargs\u001b[0m\u001b[0;34m)\u001b[0m\u001b[0;34m\u001b[0m\u001b[0;34m\u001b[0m\u001b[0m\n\u001b[1;32m    721\u001b[0m         \u001b[0;32melse\u001b[0m\u001b[0;34m:\u001b[0m\u001b[0;34m\u001b[0m\u001b[0;34m\u001b[0m\u001b[0m\n\u001b[0;32m--> 722\u001b[0;31m             \u001b[0mresult\u001b[0m \u001b[0;34m=\u001b[0m \u001b[0mself\u001b[0m\u001b[0;34m.\u001b[0m\u001b[0mforward\u001b[0m\u001b[0;34m(\u001b[0m\u001b[0;34m*\u001b[0m\u001b[0minput\u001b[0m\u001b[0;34m,\u001b[0m \u001b[0;34m**\u001b[0m\u001b[0mkwargs\u001b[0m\u001b[0;34m)\u001b[0m\u001b[0;34m\u001b[0m\u001b[0;34m\u001b[0m\u001b[0m\n\u001b[0m\u001b[1;32m    723\u001b[0m         for hook in itertools.chain(\n\u001b[1;32m    724\u001b[0m                 \u001b[0m_global_forward_hooks\u001b[0m\u001b[0;34m.\u001b[0m\u001b[0mvalues\u001b[0m\u001b[0;34m(\u001b[0m\u001b[0;34m)\u001b[0m\u001b[0;34m,\u001b[0m\u001b[0;34m\u001b[0m\u001b[0;34m\u001b[0m\u001b[0m\n",
      "\u001b[0;32m<ipython-input-3-c2f610b15cd7>\u001b[0m in \u001b[0;36mforward\u001b[0;34m(self, x)\u001b[0m\n\u001b[1;32m     24\u001b[0m         \u001b[0mtorch_model\u001b[0m\u001b[0;34m.\u001b[0m\u001b[0mrecord\u001b[0m\u001b[0;34m(\u001b[0m\u001b[0mt\u001b[0m\u001b[0;34m)\u001b[0m\u001b[0;34m\u001b[0m\u001b[0;34m\u001b[0m\u001b[0m\n\u001b[1;32m     25\u001b[0m         \u001b[0mtorch_model\u001b[0m\u001b[0;34m.\u001b[0m\u001b[0mrecord\u001b[0m\u001b[0;34m(\u001b[0m\u001b[0mout\u001b[0m\u001b[0;34m)\u001b[0m\u001b[0;34m\u001b[0m\u001b[0;34m\u001b[0m\u001b[0m\n\u001b[0;32m---> 26\u001b[0;31m         \u001b[0mt\u001b[0m \u001b[0;34m=\u001b[0m \u001b[0mself\u001b[0m\u001b[0;34m.\u001b[0m\u001b[0mconv2\u001b[0m\u001b[0;34m(\u001b[0m\u001b[0mout\u001b[0m\u001b[0;34m)\u001b[0m\u001b[0;34m\u001b[0m\u001b[0;34m\u001b[0m\u001b[0m\n\u001b[0m\u001b[1;32m     27\u001b[0m         \u001b[0mout\u001b[0m \u001b[0;34m=\u001b[0m \u001b[0mself\u001b[0m\u001b[0;34m.\u001b[0m\u001b[0mbn2\u001b[0m\u001b[0;34m(\u001b[0m\u001b[0mself\u001b[0m\u001b[0;34m.\u001b[0m\u001b[0mconv2\u001b[0m\u001b[0;34m(\u001b[0m\u001b[0mout\u001b[0m\u001b[0;34m)\u001b[0m\u001b[0;34m)\u001b[0m\u001b[0;34m\u001b[0m\u001b[0;34m\u001b[0m\u001b[0m\n\u001b[1;32m     28\u001b[0m         \u001b[0mtorch_model\u001b[0m\u001b[0;34m.\u001b[0m\u001b[0mrecord\u001b[0m\u001b[0;34m(\u001b[0m\u001b[0mt\u001b[0m\u001b[0;34m)\u001b[0m\u001b[0;34m\u001b[0m\u001b[0;34m\u001b[0m\u001b[0m\n",
      "\u001b[0;32m~/anaconda3/envs/ood/lib/python3.7/site-packages/torch/nn/modules/module.py\u001b[0m in \u001b[0;36m_call_impl\u001b[0;34m(self, *input, **kwargs)\u001b[0m\n\u001b[1;32m    720\u001b[0m             \u001b[0mresult\u001b[0m \u001b[0;34m=\u001b[0m \u001b[0mself\u001b[0m\u001b[0;34m.\u001b[0m\u001b[0m_slow_forward\u001b[0m\u001b[0;34m(\u001b[0m\u001b[0;34m*\u001b[0m\u001b[0minput\u001b[0m\u001b[0;34m,\u001b[0m \u001b[0;34m**\u001b[0m\u001b[0mkwargs\u001b[0m\u001b[0;34m)\u001b[0m\u001b[0;34m\u001b[0m\u001b[0;34m\u001b[0m\u001b[0m\n\u001b[1;32m    721\u001b[0m         \u001b[0;32melse\u001b[0m\u001b[0;34m:\u001b[0m\u001b[0;34m\u001b[0m\u001b[0;34m\u001b[0m\u001b[0m\n\u001b[0;32m--> 722\u001b[0;31m             \u001b[0mresult\u001b[0m \u001b[0;34m=\u001b[0m \u001b[0mself\u001b[0m\u001b[0;34m.\u001b[0m\u001b[0mforward\u001b[0m\u001b[0;34m(\u001b[0m\u001b[0;34m*\u001b[0m\u001b[0minput\u001b[0m\u001b[0;34m,\u001b[0m \u001b[0;34m**\u001b[0m\u001b[0mkwargs\u001b[0m\u001b[0;34m)\u001b[0m\u001b[0;34m\u001b[0m\u001b[0;34m\u001b[0m\u001b[0m\n\u001b[0m\u001b[1;32m    723\u001b[0m         for hook in itertools.chain(\n\u001b[1;32m    724\u001b[0m                 \u001b[0m_global_forward_hooks\u001b[0m\u001b[0;34m.\u001b[0m\u001b[0mvalues\u001b[0m\u001b[0;34m(\u001b[0m\u001b[0;34m)\u001b[0m\u001b[0;34m,\u001b[0m\u001b[0;34m\u001b[0m\u001b[0;34m\u001b[0m\u001b[0m\n",
      "\u001b[0;32m~/anaconda3/envs/ood/lib/python3.7/site-packages/torch/nn/modules/conv.py\u001b[0m in \u001b[0;36mforward\u001b[0;34m(self, input)\u001b[0m\n\u001b[1;32m    417\u001b[0m \u001b[0;34m\u001b[0m\u001b[0m\n\u001b[1;32m    418\u001b[0m     \u001b[0;32mdef\u001b[0m \u001b[0mforward\u001b[0m\u001b[0;34m(\u001b[0m\u001b[0mself\u001b[0m\u001b[0;34m,\u001b[0m \u001b[0minput\u001b[0m\u001b[0;34m:\u001b[0m \u001b[0mTensor\u001b[0m\u001b[0;34m)\u001b[0m \u001b[0;34m->\u001b[0m \u001b[0mTensor\u001b[0m\u001b[0;34m:\u001b[0m\u001b[0;34m\u001b[0m\u001b[0;34m\u001b[0m\u001b[0m\n\u001b[0;32m--> 419\u001b[0;31m         \u001b[0;32mreturn\u001b[0m \u001b[0mself\u001b[0m\u001b[0;34m.\u001b[0m\u001b[0m_conv_forward\u001b[0m\u001b[0;34m(\u001b[0m\u001b[0minput\u001b[0m\u001b[0;34m,\u001b[0m \u001b[0mself\u001b[0m\u001b[0;34m.\u001b[0m\u001b[0mweight\u001b[0m\u001b[0;34m)\u001b[0m\u001b[0;34m\u001b[0m\u001b[0;34m\u001b[0m\u001b[0m\n\u001b[0m\u001b[1;32m    420\u001b[0m \u001b[0;34m\u001b[0m\u001b[0m\n\u001b[1;32m    421\u001b[0m \u001b[0;32mclass\u001b[0m \u001b[0mConv3d\u001b[0m\u001b[0;34m(\u001b[0m\u001b[0m_ConvNd\u001b[0m\u001b[0;34m)\u001b[0m\u001b[0;34m:\u001b[0m\u001b[0;34m\u001b[0m\u001b[0;34m\u001b[0m\u001b[0m\n",
      "\u001b[0;32m~/anaconda3/envs/ood/lib/python3.7/site-packages/torch/nn/modules/conv.py\u001b[0m in \u001b[0;36m_conv_forward\u001b[0;34m(self, input, weight)\u001b[0m\n\u001b[1;32m    414\u001b[0m                             _pair(0), self.dilation, self.groups)\n\u001b[1;32m    415\u001b[0m         return F.conv2d(input, weight, self.bias, self.stride,\n\u001b[0;32m--> 416\u001b[0;31m                         self.padding, self.dilation, self.groups)\n\u001b[0m\u001b[1;32m    417\u001b[0m \u001b[0;34m\u001b[0m\u001b[0m\n\u001b[1;32m    418\u001b[0m     \u001b[0;32mdef\u001b[0m \u001b[0mforward\u001b[0m\u001b[0;34m(\u001b[0m\u001b[0mself\u001b[0m\u001b[0;34m,\u001b[0m \u001b[0minput\u001b[0m\u001b[0;34m:\u001b[0m \u001b[0mTensor\u001b[0m\u001b[0;34m)\u001b[0m \u001b[0;34m->\u001b[0m \u001b[0mTensor\u001b[0m\u001b[0;34m:\u001b[0m\u001b[0;34m\u001b[0m\u001b[0;34m\u001b[0m\u001b[0m\n",
      "\u001b[0;31mRuntimeError\u001b[0m: CUDA out of memory. Tried to allocate 64.00 MiB (GPU 1; 10.92 GiB total capacity; 4.20 GiB already allocated; 38.38 MiB free; 4.29 GiB reserved in total by PyTorch)"
     ]
    }
   ],
   "source": [
    "def G_p_argmax(ob, p):\n",
    "    temp = ob.detach()\n",
    "    temp = temp**p\n",
    "    temp = temp.reshape(temp.shape[0],temp.shape[1],-1)\n",
    "    temp = ((torch.matmul(temp,temp.transpose(dim0=2,dim1=1))))\n",
    "    maxtemp = torch.max(temp,2)\n",
    "    temp = torch.stack((maxtemp.values,maxtemp.indices))\n",
    "    temp = (temp.sign()*torch.abs(temp)**(1/p)).reshape(2,temp.shape[1],-1)\n",
    "    return temp\n",
    "\n",
    "print(\"Computing MinMax Argmaxversion\")\n",
    "detector.compute_minmaxs_argmaxversion(data_train,POWERS=range(1,11))\n",
    "\n",
    "print(\"Computing Test Deviation\")\n",
    "detector.compute_test_deviations_argmaxversion(POWERS=range(1,11))\n",
    "\n",
    "print(\"iSUN\")\n",
    "isun_results = detector.compute_ood_deviations_argmaxversion(isun,POWERS=range(1,11))\n",
    "print(\"LSUN (R)\")\n",
    "lsunr_results = detector.compute_ood_deviations_argmaxversion(lsun_r,POWERS=range(1,11))\n",
    "print(\"LSUN (C)\")\n",
    "lsunc_results = detector.compute_ood_deviations_argmaxversion(lsun_c,POWERS=range(1,11))\n",
    "print(\"LSUN (F)\")\n",
    "lsunf_results = detector.compute_ood_deviations_argmaxversion(lsun_f,POWERS=range(1,11))\n",
    "print(\"TinyImgNet (R)\")\n",
    "timr_results = detector.compute_ood_deviations_argmaxversion(tinyimagenet_r,POWERS=range(1,11))\n",
    "print(\"TinyImgNet (C)\")\n",
    "timc_results = detector.compute_ood_deviations_argmaxversion(tinyimagenet_c,POWERS=range(1,11))\n",
    "print(\"TinyImgNet (F)\")\n",
    "timf_results = detector.compute_ood_deviations_argmaxversion(tinyimagenet_f,POWERS=range(1,11))\n",
    "print(\"SVHN\")\n",
    "svhn_results = detector.compute_ood_deviations_argmaxversion(svhn,POWERS=range(1,11))\n",
    "print(\"CIFAR-100\")\n",
    "c100_results = detector.compute_ood_deviations_argmaxversion(cifar100,POWERS=range(1,11))\n"
   ]
  },
  {
   "cell_type": "code",
   "execution_count": null,
   "metadata": {},
   "outputs": [],
   "source": []
  }
 ],
 "metadata": {
  "kernelspec": {
   "name": "Python 3.7.7 64-bit ('ood': conda)",
   "display_name": "Python 3.7.7 64-bit ('ood': conda)",
   "metadata": {
    "interpreter": {
     "hash": "49d8e6d1b3e73d7afc119b74f84a84169f7c90af857d604994a627180ea68df3"
    }
   }
  },
  "language_info": {
   "codemirror_mode": {
    "name": "ipython",
    "version": 3
   },
   "file_extension": ".py",
   "mimetype": "text/x-python",
   "name": "python",
   "nbconvert_exporter": "python",
   "pygments_lexer": "ipython3",
   "version": "3.7.7-final"
  }
 },
 "nbformat": 4,
 "nbformat_minor": 2
}